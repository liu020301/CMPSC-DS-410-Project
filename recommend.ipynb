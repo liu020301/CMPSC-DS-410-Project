{
 "cells": [
  {
   "cell_type": "markdown",
   "metadata": {},
   "source": [
    "### Reference: Some codes from CMPSC/DS 410 Lab6 are used"
   ]
  },
  {
   "cell_type": "code",
   "execution_count": null,
   "metadata": {},
   "outputs": [],
   "source": [
    "import pyspark\n",
    "import pandas as pd\n",
    "import numpy as np\n",
    "import math"
   ]
  },
  {
   "cell_type": "code",
   "execution_count": null,
   "metadata": {},
   "outputs": [],
   "source": [
    "from pyspark import SparkContext\n",
    "from pyspark.sql import SparkSession\n",
    "from pyspark.sql.types import StructField, StructType, StringType, LongType, IntegerType, FloatType, DateType,BooleanType\n",
    "from pyspark.sql.functions import col, column, avg, when, udf\n",
    "from pyspark.sql.functions import expr\n",
    "from pyspark.sql.functions import split\n",
    "from pyspark.sql import Row\n",
    "from pyspark.mllib.recommendation import ALS"
   ]
  },
  {
   "cell_type": "markdown",
   "metadata": {},
   "source": [
    "# Purpose: This is for recommendation"
   ]
  },
  {
   "cell_type": "code",
   "execution_count": null,
   "metadata": {},
   "outputs": [],
   "source": [
    "ss=SparkSession.builder.appName(\"ALS-based Recommendation Systems\").getOrCreate()"
   ]
  },
  {
   "cell_type": "code",
   "execution_count": null,
   "metadata": {},
   "outputs": [],
   "source": [
    "ss.sparkContext.setCheckpointDir(\"~/scratch\")"
   ]
  },
  {
   "cell_type": "code",
   "execution_count": null,
   "metadata": {},
   "outputs": [],
   "source": [
    "rating_schema = StructType([ StructField(\"app_id\", IntegerType(), True), \\\n",
    "                            StructField(\"helpful\", IntegerType(), True ), \\\n",
    "                            StructField(\"funny\", IntegerType(), True ), \\\n",
    "                            StructField(\"date\", DateType(), True ), \\\n",
    "                            StructField(\"is_recommended\", BooleanType(), True ), \\\n",
    "                            StructField(\"hours\", FloatType(), True ), \\\n",
    "                            StructField(\"user_id\", IntegerType(), True ), \\\n",
    "                            StructField(\"review_id\", IntegerType(), True ), \\\n",
    "                           ])"
   ]
  },
  {
   "cell_type": "markdown",
   "metadata": {},
   "source": [
    "## Read the recommendations.csv file"
   ]
  },
  {
   "cell_type": "code",
   "execution_count": null,
   "metadata": {},
   "outputs": [],
   "source": [
    "DF = ss.read.csv(\"/storage/home/zql5426/work/Project/recommendations.csv\", schema=rating_schema, header=True, inferSchema=False)\n",
    "DF = DF.select(\"app_id\", \"is_recommended\", \"hours\", \"user_id\")"
   ]
  },
  {
   "cell_type": "code",
   "execution_count": null,
   "metadata": {},
   "outputs": [],
   "source": [
    "DF.printSchema()"
   ]
  },
  {
   "cell_type": "markdown",
   "metadata": {},
   "source": [
    "### Calculate the average hours of each game"
   ]
  },
  {
   "cell_type": "code",
   "execution_count": null,
   "metadata": {},
   "outputs": [],
   "source": [
    "avg_hours_df = DF.groupBy(\"app_id\").agg(avg(\"hours\").alias(\"avg_hours\"))\n",
    "df_with_avghr = DF.join(avg_hours_df, \"app_id\")"
   ]
  },
  {
   "cell_type": "markdown",
   "metadata": {},
   "source": [
    "### Rating according to 'is_recommended' and 'average hours'"
   ]
  },
  {
   "cell_type": "code",
   "execution_count": null,
   "metadata": {},
   "outputs": [],
   "source": [
    "def assign_points(is_recommended, hours, avg_hours):\n",
    "    if is_recommended and hours >= avg_hours:\n",
    "        return 4\n",
    "    elif is_recommended and hours < avg_hours:\n",
    "        return 3\n",
    "    elif not is_recommended and hours > avg_hours:\n",
    "        return 2\n",
    "    elif not is_recommended and hours < avg_hours:\n",
    "        return 1"
   ]
  },
  {
   "cell_type": "code",
   "execution_count": null,
   "metadata": {},
   "outputs": [],
   "source": [
    "assign_points_udf = udf(assign_points, IntegerType())\n",
    "df_with_points = df_with_avghr.withColumn(\"rating_point\", assign_points_udf(col(\"is_recommended\"), col(\"hours\"), col(\"avg_hours\")))"
   ]
  },
  {
   "cell_type": "code",
   "execution_count": null,
   "metadata": {},
   "outputs": [],
   "source": [
    "ratings_df = df_with_points.select(\"user_id\", \"app_id\", \"rating_point\")\n",
    "ratings_df.printSchema()"
   ]
  },
  {
   "cell_type": "code",
   "execution_count": null,
   "metadata": {},
   "outputs": [],
   "source": [
    "ratings_df = ratings_df.withColumn(\"rating_points\", ratings_df[\"rating_point\"].cast(\"float\"))\n",
    "info_df = ratings_df.select(\"user_id\", \"app_id\", \"rating_points\")\n",
    "info_df.printSchema()\n",
    "info_df = info_df.na.drop(subset=[\"rating_points\"])"
   ]
  },
  {
   "cell_type": "code",
   "execution_count": null,
   "metadata": {},
   "outputs": [],
   "source": [
    "info_RDD = info_df.rdd"
   ]
  },
  {
   "cell_type": "code",
   "execution_count": null,
   "metadata": {},
   "outputs": [],
   "source": [
    "training_input_RDD = info_RDD.map(lambda x: (x[0], x[1]) )"
   ]
  },
  {
   "cell_type": "code",
   "execution_count": null,
   "metadata": {},
   "outputs": [],
   "source": [
    "model = ALS.train(info_RDD, 4, seed=37, iterations=30, lambda_=0.3)"
   ]
  },
  {
   "cell_type": "code",
   "execution_count": null,
   "metadata": {},
   "outputs": [],
   "source": [
    "training_prediction_RDD = model.predictAll(training_input_RDD)"
   ]
  },
  {
   "cell_type": "code",
   "execution_count": null,
   "metadata": {},
   "outputs": [],
   "source": [
    "predict_schema = StructType([ StructField(\"user_id\", IntegerType(), True), \\\n",
    "                            StructField(\"app_id\", IntegerType(), True ), \\\n",
    "                            StructField(\"rating_points\", FloatType(), True ), \\\n",
    "                           ])"
   ]
  },
  {
   "cell_type": "markdown",
   "metadata": {},
   "source": [
    "## Write the prediction ratings to csv files"
   ]
  },
  {
   "cell_type": "code",
   "execution_count": null,
   "metadata": {},
   "outputs": [],
   "source": [
    "predict_df = spark.createDataFrame(training_prediction_RDD, predict_schema)\n",
    "output_path = \"/storage/home/zql5426/work/Project/Predict_result\"\n",
    "predict_df.write.csv(output_path, mode=\"overwrite\", header=True)"
   ]
  },
  {
   "cell_type": "markdown",
   "metadata": {},
   "source": [
    "## A function for recommending games to a given user_id"
   ]
  },
  {
   "cell_type": "code",
   "execution_count": null,
   "metadata": {},
   "outputs": [],
   "source": [
    "def recommend_games(user_id):\n",
    "    games_csv_path = \"/storage/home/zql5426/work/Project/games.csv\"\n",
    "    predictions_df = predict_df\n",
    "    games_df = ss.read.csv(games_csv_path, header=True, inferSchema=True)\n",
    "    # get the recommended games\n",
    "    top_predictions = predictions_df.filter(predictions_df.user_id == user_id).orderBy(predictions_df.rating_points.desc()).limit(10)\n",
    "    \n",
    "    # get the game names\n",
    "    recommendations = top_predictions.join(games_df, top_predictions.app_id == games_df.app_id).select(top_predictions.app_id, games_df.title)\n",
    "    recommended_games = recommendations.collect()\n",
    "    result = [(row.app_id, row.title) for row in recommended_games]\n",
    "    \n",
    "    return result\n"
   ]
  },
  {
   "cell_type": "markdown",
   "metadata": {},
   "source": [
    "## Change the parameter of 'recommend_games' function below to get the recommended games for your chosen user"
   ]
  },
  {
   "cell_type": "code",
   "execution_count": null,
   "metadata": {},
   "outputs": [],
   "source": [
    "recommendations = recommend_games(8762579)\n",
    "for game_id, game_name in recommendations:\n",
    "    print(f\"Game ID: {game_id}, Game Name: {game_name}\")\n"
   ]
  },
  {
   "cell_type": "code",
   "execution_count": null,
   "metadata": {},
   "outputs": [],
   "source": [
    "ss.stop()"
   ]
  },
  {
   "cell_type": "code",
   "execution_count": null,
   "metadata": {},
   "outputs": [],
   "source": []
  }
 ],
 "metadata": {
  "kernelspec": {
   "display_name": "Python (ds410_sp24)",
   "language": "python",
   "name": "ds410_sp24"
  },
  "language_info": {
   "codemirror_mode": {
    "name": "ipython",
    "version": 3
   },
   "file_extension": ".py",
   "mimetype": "text/x-python",
   "name": "python",
   "nbconvert_exporter": "python",
   "pygments_lexer": "ipython3",
   "version": "3.8.8"
  }
 },
 "nbformat": 4,
 "nbformat_minor": 4
}
